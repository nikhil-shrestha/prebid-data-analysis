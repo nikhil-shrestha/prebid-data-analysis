{
 "cells": [
  {
   "cell_type": "code",
   "execution_count": 1,
   "metadata": {},
   "outputs": [],
   "source": [
    "import numpy as np\n",
    "import pandas as pd\n",
    "import matplotlib.pyplot as plt\n",
    "from kmeans import plot_k_means, get_simple_data\n",
    "from datetime import datetime"
   ]
  },
  {
   "cell_type": "code",
   "execution_count": 15,
   "metadata": {},
   "outputs": [],
   "source": [
    "def get_data(limit=None):\n",
    "    print(\"Reading in and transforming data...\")\n",
    "    df = pd.read_csv('./large_files/train.csv')\n",
    "    data = df.values\n",
    "    np.random.shuffle(data)\n",
    "    X = data[:, 1:] / 255.0 # data is from 0..255\n",
    "    Y = data[:, 0]\n",
    "    if limit is not None:\n",
    "          X, Y = X[:limit], Y[:limit]\n",
    "    return X, Y"
   ]
  },
  {
   "cell_type": "code",
   "execution_count": 4,
   "metadata": {},
   "outputs": [],
   "source": [
    "def purity2(Y, R):\n",
    "    # maximum purity is 1, higher is better\n",
    "    C = np.argmax(R, axis=1) # cluster assignments\n",
    "\n",
    "    N = len(Y) # number of data pts\n",
    "    K = len(set(Y)) # number of labels\n",
    "\n",
    "    total = 0.0\n",
    "    for k in range(K):\n",
    "        max_intersection = 0\n",
    "        for j in range(K):\n",
    "            intersection = ((C == k) & (Y == j)).sum()\n",
    "            if intersection > max_intersection:\n",
    "                max_intersection = intersection\n",
    "        total += max_intersection\n",
    "    return total / N"
   ]
  },
  {
   "cell_type": "code",
   "execution_count": 6,
   "metadata": {},
   "outputs": [],
   "source": [
    "def purity(Y, R):\n",
    "    # maximum purity is 1, higher is better\n",
    "    N, K = R.shape\n",
    "    p = 0\n",
    "    for k in range(K):\n",
    "        best_target = -1 # we don't strictly need to store this\n",
    "        max_intersection = 0\n",
    "        for j in range(K):\n",
    "            intersection = R[Y==j, k].sum()\n",
    "            if intersection > max_intersection:\n",
    "                max_intersection = intersection\n",
    "                best_target = j\n",
    "        p += max_intersection\n",
    "    return p / N"
   ]
  },
  {
   "cell_type": "code",
   "execution_count": 7,
   "metadata": {},
   "outputs": [],
   "source": [
    "# hard labels\n",
    "def DBI2(X, R):\n",
    "    N, D = X.shape\n",
    "    _, K = R.shape\n",
    "\n",
    "    # get sigmas, means first\n",
    "    sigma = np.zeros(K)\n",
    "    M = np.zeros((K, D))\n",
    "    assignments = np.argmax(R, axis=1)\n",
    "    for k in range(K):\n",
    "        Xk = X[assignments == k]\n",
    "        M[k] = Xk.mean(axis=0)\n",
    "        # assert(Xk.mean(axis=0).shape == (D,))\n",
    "        n = len(Xk)\n",
    "        diffs = Xk - M[k]\n",
    "        sq_diffs = diffs * diffs\n",
    "        sigma[k] = np.sqrt( sq_diffs.sum() / n )\n",
    "\n",
    "\n",
    "    # calculate Davies-Bouldin Index\n",
    "    dbi = 0\n",
    "    for k in range(K):\n",
    "        max_ratio = 0\n",
    "        for j in range(K):\n",
    "            if k != j:\n",
    "                numerator = sigma[k] + sigma[j]\n",
    "                denominator = np.linalg.norm(M[k] - M[j])\n",
    "                ratio = numerator / denominator\n",
    "                if ratio > max_ratio:\n",
    "                    max_ratio = ratio\n",
    "        dbi += max_ratio\n",
    "    return dbi / K"
   ]
  },
  {
   "cell_type": "code",
   "execution_count": 8,
   "metadata": {},
   "outputs": [],
   "source": [
    "def DBI(X, M, R):\n",
    "    # ratio between sum of std deviations between 2 clusters / distance between cluster means\n",
    "    # lower is better\n",
    "    N, D = X.shape\n",
    "    K, _ = M.shape\n",
    "\n",
    "    # get sigmas first\n",
    "    sigma = np.zeros(K)\n",
    "    for k in range(K):\n",
    "        diffs = X - M[k] # should be NxD\n",
    "        squared_distances = (diffs * diffs).sum(axis=1) # now just N\n",
    "        weighted_squared_distances = R[:,k]*squared_distances\n",
    "        sigma[k] = np.sqrt( weighted_squared_distances.sum() / R[:,k].sum() )\n",
    "\n",
    "    # calculate Davies-Bouldin Index\n",
    "    dbi = 0\n",
    "    for k in range(K):\n",
    "        max_ratio = 0\n",
    "        for j in range(K):\n",
    "            if k != j:\n",
    "                numerator = sigma[k] + sigma[j]\n",
    "                denominator = np.linalg.norm(M[k] - M[j])\n",
    "                ratio = numerator / denominator\n",
    "                if ratio > max_ratio:\n",
    "                    max_ratio = ratio\n",
    "        dbi += max_ratio\n",
    "    return dbi / K\n"
   ]
  },
  {
   "cell_type": "code",
   "execution_count": 16,
   "metadata": {},
   "outputs": [
    {
     "name": "stdout",
     "output_type": "stream",
     "text": [
      "Reading in and transforming data...\n",
      "Number of data points: 10000\n",
      "Final cost 397094.400400374\n",
      "Purity: 0.5785084974663146\n",
      "Purity 2 (hard clusters): 0.5783\n",
      "DBI: 2.853304298512296\n",
      "DBI 2 (hard clusters): 2.852114619355143\n"
     ]
    },
    {
     "data": {
      "image/png": "[encoded data removed]",
      "text/plain": [
       "<Figure size 432x288 with 1 Axes>"
      ]
     },
     "metadata": {
      "needs_background": "light"
     },
     "output_type": "display_data"
    },
    {
     "data": {
      "image/png": "[encoded data removed]",
      "text/plain": [
       "<Figure size 432x288 with 1 Axes>"
      ]
     },
     "metadata": {
      "needs_background": "light"
     },
     "output_type": "display_data"
    },
    {
     "data": {
      "image/png": "[encoded data removed]",
      "text/plain": [
       "<Figure size 432x288 with 1 Axes>"
      ]
     },
     "metadata": {
      "needs_background": "light"
     },
     "output_type": "display_data"
    },
    {
     "data": {
      "image/png": "[encoded data removed]",
      "text/plain": [
       "<Figure size 432x288 with 1 Axes>"
      ]
     },
     "metadata": {
      "needs_background": "light"
     },
     "output_type": "display_data"
    },
    {
     "data": {
      "image/png": "[encoded data removed]",
      "text/plain": [
       "<Figure size 432x288 with 1 Axes>"
      ]
     },
     "metadata": {
      "needs_background": "light"
     },
     "output_type": "display_data"
    },
    {
     "data": {
      "image/png": "[encoded data removed]",
      "text/plain": [
       "<Figure size 432x288 with 1 Axes>"
      ]
     },
     "metadata": {
      "needs_background": "light"
     },
     "output_type": "display_data"
    },
    {
     "data": {
      "image/png": "[encoded data removed]",
      "text/plain": [
       "<Figure size 432x288 with 1 Axes>"
      ]
     },
     "metadata": {
      "needs_background": "light"
     },
     "output_type": "display_data"
    },
    {
     "data": {
      "image/png": "[encoded data removed]",
      "text/plain": [
       "<Figure size 432x288 with 1 Axes>"
      ]
     },
     "metadata": {
      "needs_background": "light"
     },
     "output_type": "display_data"
    },
    {
     "data": {
      "image/png": "[encoded data removed]",
      "text/plain": [
       "<Figure size 432x288 with 1 Axes>"
      ]
     },
     "metadata": {
      "needs_background": "light"
     },
     "output_type": "display_data"
    },
    {
     "data": {
      "image/png": "[encoded data removed]",
      "text/plain": [
       "<Figure size 432x288 with 1 Axes>"
      ]
     },
     "metadata": {
      "needs_background": "light"
     },
     "output_type": "display_data"
    }
   ],
   "source": [
    "# mnist data\n",
    "X, Y = get_data(10000)\n",
    "\n",
    "# simple data\n",
    "# X = get_simple_data()\n",
    "# Y = np.array([0]*300 + [1]*300 + [2]*300)\n",
    "\n",
    "print(\"Number of data points:\", len(Y))\n",
    "M, R = plot_k_means(X, len(set(Y)))\n",
    "# Exercise: Try different values of K and compare the evaluation metrics\n",
    "print(\"Purity:\", purity(Y, R))\n",
    "print(\"Purity 2 (hard clusters):\", purity2(Y, R))\n",
    "print(\"DBI:\", DBI(X, M, R))\n",
    "print(\"DBI 2 (hard clusters):\", DBI2(X, R))\n",
    "\n",
    "# plot the mean images\n",
    "# they should look like digits\n",
    "for k in range(len(M)):\n",
    "    im = M[k].reshape(28, 28)\n",
    "    plt.imshow(im, cmap='gray')\n",
    "    plt.show()"
   ]
  }
 ],
 "metadata": {
  "interpreter": {
   "hash": "f5a0cb9e489d85d861e50c69dca2f4d8b55060b10d4b7bc09f50045fca290655"
  },
  "kernelspec": {
   "display_name": "Python 3.9.7 ('base')",
   "language": "python",
   "name": "python3"
  },
  "language_info": {
   "codemirror_mode": {
    "name": "ipython",
    "version": 3
   },
   "file_extension": ".py",
   "mimetype": "text/x-python",
   "name": "python",
   "nbconvert_exporter": "python",
   "pygments_lexer": "ipython3",
   "version": "3.9.7"
  },
  "orig_nbformat": 4
 },
 "nbformat": 4,
 "nbformat_minor": 2
}
